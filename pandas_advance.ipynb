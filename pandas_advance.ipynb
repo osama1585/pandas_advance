{
 "cells": [
  {
   "cell_type": "markdown",
   "id": "a9634ffb-4947-426b-904b-a477fcfbe257",
   "metadata": {},
   "source": [
    "<span style=color:red;font-size:60px>ASSIGNMENT</span>"
   ]
  },
  {
   "cell_type": "markdown",
   "id": "6a577e73-bd1d-415c-936a-6ef79fb3e469",
   "metadata": {},
   "source": [
    "<span style =color:blue;font-size:50px>PANDAS ADVANCE-1</span>"
   ]
  },
  {
   "cell_type": "markdown",
   "id": "dc1f3cb8-40e5-42e3-b5c7-c34c2d55d0c5",
   "metadata": {},
   "source": [
    "<span style=color:green>Q1. List any five functions of the pandas library with execution.</span>"
   ]
  },
  {
   "cell_type": "markdown",
   "id": "2832e638-314a-418a-a537-c69713fa9943",
   "metadata": {},
   "source": [
    "Ans-"
   ]
  },
  {
   "cell_type": "markdown",
   "id": "f9dcf0c9-2bed-4933-9945-fded05c19f83",
   "metadata": {},
   "source": [
    "***Certainly! Here are five functions from the Pandas library with example executions:***"
   ]
  },
  {
   "cell_type": "code",
   "execution_count": null,
   "id": "4eb487c9-e208-498e-8cbf-127d3d403e7a",
   "metadata": {},
   "outputs": [],
   "source": [
    "import pandas as pd"
   ]
  },
  {
   "cell_type": "code",
   "execution_count": null,
   "id": "c3d00cf9-bbe0-4aab-b95b-53954dd88b1f",
   "metadata": {},
   "outputs": [],
   "source": [
    "my_datas={\n",
    "    'Name':['Osama','Yasir','Kallu'],\n",
    "    'Sec':['A1','A2','B2'],\n",
    "    'Phone':[9889,9778,7667]\n",
    "    \n",
    "}"
   ]
  },
  {
   "cell_type": "code",
   "execution_count": null,
   "id": "16db8a5c-68c5-4e41-9de1-e8a244f1150e",
   "metadata": {},
   "outputs": [],
   "source": [
    "# 1-DataFrame\n",
    "df=pd.DataFrame(my_datas)\n",
    "print(df)"
   ]
  },
  {
   "cell_type": "code",
   "execution_count": null,
   "id": "dcee57ba-b427-482e-bf19-84db67935a21",
   "metadata": {},
   "outputs": [],
   "source": [
    "# 2-Read_csv\n",
    "df1=pd.read_csv(\"https://raw.githubusercontent.com/datasciencedojo/datasets/master/titanic.csv\")"
   ]
  },
  {
   "cell_type": "code",
   "execution_count": null,
   "id": "eca74ae2-c1cf-4fe0-8d1c-d442cb2bd76c",
   "metadata": {},
   "outputs": [],
   "source": [
    "df1"
   ]
  },
  {
   "cell_type": "code",
   "execution_count": null,
   "id": "b8d14a3d-2d14-48d2-b83d-cfd4b131195c",
   "metadata": {},
   "outputs": [],
   "source": [
    "#3- DataFrame.head\n",
    "df1.head()"
   ]
  },
  {
   "cell_type": "code",
   "execution_count": null,
   "id": "8e8a1e39-b241-4fd1-87ad-0503365671fb",
   "metadata": {},
   "outputs": [],
   "source": [
    "# 4- DataFrame.describe\n",
    "df1.describe()"
   ]
  },
  {
   "cell_type": "code",
   "execution_count": null,
   "id": "e8de405f-58fb-4193-81a1-4e3336e18c1b",
   "metadata": {},
   "outputs": [],
   "source": [
    "# 5-Datatypes\n",
    "df1.dtypes"
   ]
  },
  {
   "cell_type": "markdown",
   "id": "f6ac169b-6a86-4a68-a206-965d4f157a9b",
   "metadata": {},
   "source": [
    "<span style=color:green>Q2. Given a Pandas DataFrame df with columns 'A', 'B', and 'C', write a Python function to re-index the\n",
    "DataFrame with a new index that starts from 1 and increments by 2 for each row.</span>"
   ]
  },
  {
   "cell_type": "markdown",
   "id": "48b3c799-9089-4be0-a21c-423f92b1d527",
   "metadata": {},
   "source": [
    "Ans-"
   ]
  },
  {
   "cell_type": "code",
   "execution_count": null,
   "id": "dc403443-e458-4e15-a414-f1a4d2066612",
   "metadata": {},
   "outputs": [],
   "source": [
    "import pandas as pd\n",
    "\n",
    "\n",
    "data = {'A': [10, 20, 30],\n",
    "        'B': [40, 50, 60],\n",
    "        'C': [70, 80, 90]}\n",
    "df = pd.DataFrame(data)\n",
    "\n",
    "# Re-index the DataFrame\n",
    "df.index = range(1, len(df) * 2, 2)\n",
    "\n",
    "# Display the DataFrame with the new index\n",
    "print(df)\n"
   ]
  },
  {
   "cell_type": "markdown",
   "id": "53554dac-b535-4ab8-aa4f-8884360d1317",
   "metadata": {},
   "source": [
    "<span style=color:green>Q3. You have a Pandas DataFrame df with a column named 'Values'. Write a Python function that\n",
    "iterates over the DataFrame and calculates the sum of the first three values in the 'Values' column. The\n",
    "function should print the sum to the console.\n",
    "For example, if the 'Values' column of df contains the values [10, 20, 30, 40, 50], your function should\n",
    "calculate and print the sum of the first three values, which is 60.</span>"
   ]
  },
  {
   "cell_type": "markdown",
   "id": "c76c7027-31b0-4522-8d79-7fde2f292beb",
   "metadata": {},
   "source": [
    "Ans-"
   ]
  },
  {
   "cell_type": "code",
   "execution_count": null,
   "id": "676e99cb-2721-467d-b15e-c6faf6416d71",
   "metadata": {},
   "outputs": [],
   "source": [
    "import pandas as pd\n",
    "\n",
    "# sample of dataframe\n",
    "data={'values':[10,20,10,20,40,33]}\n",
    "df=pd.DataFrame(data)\n",
    "\n",
    "def cal_sum_of_3(df):\n",
    "    if 'values' in df:\n",
    "        my_total=df['values'].head(3).sum()\n",
    "        print(\"sum of first 3:\",my_total)\n",
    "    else:\n",
    "        (\"don't have values\")\n",
    "         \n",
    "cal_sum_of_3(df)\n"
   ]
  },
  {
   "cell_type": "markdown",
   "id": "6c2f7285-03e8-4f1b-92c7-443d26041705",
   "metadata": {},
   "source": [
    "<span style=color:green>Q4. Given a Pandas DataFrame df with a column 'Text', write a Python function to create a new column\n",
    "'Word_Count' that contains the number of words in each row of the 'Text' column.</span>"
   ]
  },
  {
   "cell_type": "markdown",
   "id": "148b1e81-3593-4c22-85a2-d19fa3342755",
   "metadata": {},
   "source": [
    "Ans-"
   ]
  },
  {
   "cell_type": "code",
   "execution_count": null,
   "id": "38b6176d-78b2-4342-89b5-747524220119",
   "metadata": {},
   "outputs": [],
   "source": [
    "import pandas as pd\n",
    "\n",
    "\n",
    "# create dataframe\n",
    "my_data={'Text':['Myself Osama','I am Data Engineer','I am from Gorakhpur Uttar Pradesh India']}\n",
    "df=pd.DataFrame(my_data)\n",
    "\n",
    "def word_count_column(df):\n",
    "    df['Word Count']=df['Text'].apply(lambda x:len(str(x).split()))\n",
    "    return df\n",
    "df=word_count_column(df)\n",
    "\n",
    "print(df)\n",
    "    "
   ]
  },
  {
   "cell_type": "markdown",
   "id": "a76779d2-b93a-4249-81f0-9bd206a15754",
   "metadata": {},
   "source": [
    "<span style=color:green>Q5. How are DataFrame.size() and DataFrame.shape() different?</span>"
   ]
  },
  {
   "cell_type": "markdown",
   "id": "da9654f7-4ee3-4ea1-8404-0259690e2d6c",
   "metadata": {},
   "source": [
    "Ans-"
   ]
  },
  {
   "cell_type": "markdown",
   "id": "7ae82763-e078-469d-82f8-83e3a73e9eaf",
   "metadata": {},
   "source": [
    "***In the context of pandas, a popular Python library for data manipulation and analysis, DataFrame.size and DataFrame.shape are two different attributes that provide information about the dimensions of a DataFrame. Here's how they differ:***"
   ]
  },
  {
   "cell_type": "markdown",
   "id": "0566e3f3-76ac-4c0f-b04e-096ae38fa15d",
   "metadata": {},
   "source": [
    "***1-DataFrame.size():***"
   ]
  },
  {
   "cell_type": "markdown",
   "id": "7af20672-b95d-4947-ae99-1a2949cb6b6a",
   "metadata": {},
   "source": [
    "DataFrame.size returns the total number of elements in the DataFrame, which is essentially the product of the number of rows and columns.\n",
    "It represents the total number of data points in the DataFrame, including all cells."
   ]
  },
  {
   "cell_type": "code",
   "execution_count": null,
   "id": "112756f5-f18e-4b64-af01-e74ac965df00",
   "metadata": {},
   "outputs": [],
   "source": [
    "import pandas as pd\n",
    "\n",
    "data={'A':[1,2,3,7], 'B':[4,5,7,8]}\n",
    "df=pd.DataFrame(data)\n",
    "print(df.size)"
   ]
  },
  {
   "cell_type": "markdown",
   "id": "6329be38-12a1-492c-b289-c46d7b25af1f",
   "metadata": {},
   "source": [
    "***2-DataFrame.shape():***"
   ]
  },
  {
   "cell_type": "markdown",
   "id": "3fb0424c-ee6d-4687-82df-06f7d10f38a5",
   "metadata": {},
   "source": [
    "DataFrame.shape returns a tuple representing the dimensions of the DataFrame. It provides the number of rows and columns in the DataFrame.\n",
    "It does not give you the total number of elements, only the structure (number of rows and columns)."
   ]
  },
  {
   "cell_type": "code",
   "execution_count": null,
   "id": "6e2d9ee0-0df1-4ebf-b2e8-f7cbb198ae90",
   "metadata": {},
   "outputs": [],
   "source": [
    "import pandas as pd\n",
    "\n",
    "data={'A':[1,2,3,7], 'B':[4,5,7,8], 'C':[2,4,6,8]}\n",
    "df=pd.DataFrame(data)\n",
    "print(df.shape)"
   ]
  },
  {
   "cell_type": "markdown",
   "id": "7faabe7e-4788-4b39-b0d1-231173a50a5d",
   "metadata": {},
   "source": [
    "<span style=color:green>Q6. Which function of pandas do we use to read an excel file?</span>"
   ]
  },
  {
   "cell_type": "markdown",
   "id": "571f44ce-c50b-421e-9d13-36f1eed75ffd",
   "metadata": {},
   "source": [
    "Ans-"
   ]
  },
  {
   "cell_type": "markdown",
   "id": "ca711b34-0b5d-4f20-bc82-d2f2a71d22ff",
   "metadata": {},
   "source": [
    "\n",
    "In pandas, you can use the read_excel function to read data from an Excel file. Here's the basic syntax for using this function:"
   ]
  },
  {
   "cell_type": "code",
   "execution_count": 4,
   "id": "43dcd651-54b8-47b1-b74a-bceb7f86229e",
   "metadata": {},
   "outputs": [],
   "source": [
    "import pandas as pd\n",
    "df=pd.read_excel(\"LUSID Excel - Setting up your market data.xlsx\")"
   ]
  },
  {
   "cell_type": "code",
   "execution_count": 5,
   "id": "adbd6a3e-b4a0-43d3-9997-a3feefbddca1",
   "metadata": {},
   "outputs": [
    {
     "data": {
      "text/html": [
       "<div>\n",
       "<style scoped>\n",
       "    .dataframe tbody tr th:only-of-type {\n",
       "        vertical-align: middle;\n",
       "    }\n",
       "\n",
       "    .dataframe tbody tr th {\n",
       "        vertical-align: top;\n",
       "    }\n",
       "\n",
       "    .dataframe thead th {\n",
       "        text-align: right;\n",
       "    }\n",
       "</style>\n",
       "<table border=\"1\" class=\"dataframe\">\n",
       "  <thead>\n",
       "    <tr style=\"text-align: right;\">\n",
       "      <th></th>\n",
       "      <th>Unnamed: 0</th>\n",
       "      <th>Unnamed: 1</th>\n",
       "      <th>Unnamed: 2</th>\n",
       "      <th>Unnamed: 3</th>\n",
       "      <th>Unnamed: 4</th>\n",
       "      <th>Unnamed: 5</th>\n",
       "      <th>Unnamed: 6</th>\n",
       "      <th>Unnamed: 7</th>\n",
       "      <th>Unnamed: 8</th>\n",
       "      <th>Unnamed: 9</th>\n",
       "    </tr>\n",
       "  </thead>\n",
       "  <tbody>\n",
       "    <tr>\n",
       "      <th>0</th>\n",
       "      <td>NaN</td>\n",
       "      <td>NaN</td>\n",
       "      <td>NaN</td>\n",
       "      <td>NaN</td>\n",
       "      <td>NaN</td>\n",
       "      <td>NaN</td>\n",
       "      <td>NaN</td>\n",
       "      <td>NaN</td>\n",
       "      <td>NaN</td>\n",
       "      <td>NaN</td>\n",
       "    </tr>\n",
       "    <tr>\n",
       "      <th>1</th>\n",
       "      <td>NaN</td>\n",
       "      <td>NaN</td>\n",
       "      <td>NaN</td>\n",
       "      <td>Datetimes in LUSID</td>\n",
       "      <td>NaN</td>\n",
       "      <td>NaN</td>\n",
       "      <td>NaN</td>\n",
       "      <td>NaN</td>\n",
       "      <td>NaN</td>\n",
       "      <td>NaN</td>\n",
       "    </tr>\n",
       "    <tr>\n",
       "      <th>2</th>\n",
       "      <td>NaN</td>\n",
       "      <td>NaN</td>\n",
       "      <td>NaN</td>\n",
       "      <td>NaN</td>\n",
       "      <td>NaN</td>\n",
       "      <td>NaN</td>\n",
       "      <td>NaN</td>\n",
       "      <td>NaN</td>\n",
       "      <td>NaN</td>\n",
       "      <td>NaN</td>\n",
       "    </tr>\n",
       "    <tr>\n",
       "      <th>3</th>\n",
       "      <td>NaN</td>\n",
       "      <td>NaN</td>\n",
       "      <td>NaN</td>\n",
       "      <td>This sheet allows you to format datetimes for...</td>\n",
       "      <td>NaN</td>\n",
       "      <td>NaN</td>\n",
       "      <td>NaN</td>\n",
       "      <td>NaN</td>\n",
       "      <td>NaN</td>\n",
       "      <td>NaN</td>\n",
       "    </tr>\n",
       "    <tr>\n",
       "      <th>4</th>\n",
       "      <td>NaN</td>\n",
       "      <td>NaN</td>\n",
       "      <td>NaN</td>\n",
       "      <td>If you have any questions please visit our:</td>\n",
       "      <td>NaN</td>\n",
       "      <td>NaN</td>\n",
       "      <td>NaN</td>\n",
       "      <td>NaN</td>\n",
       "      <td>NaN</td>\n",
       "      <td>NaN</td>\n",
       "    </tr>\n",
       "    <tr>\n",
       "      <th>5</th>\n",
       "      <td>NaN</td>\n",
       "      <td>NaN</td>\n",
       "      <td>NaN</td>\n",
       "      <td>NaN</td>\n",
       "      <td>Getting Started tutorials</td>\n",
       "      <td>NaN</td>\n",
       "      <td>NaN</td>\n",
       "      <td>NaN</td>\n",
       "      <td>NaN</td>\n",
       "      <td>NaN</td>\n",
       "    </tr>\n",
       "    <tr>\n",
       "      <th>6</th>\n",
       "      <td>NaN</td>\n",
       "      <td>NaN</td>\n",
       "      <td>NaN</td>\n",
       "      <td>NaN</td>\n",
       "      <td>Knowledge Base articles</td>\n",
       "      <td>NaN</td>\n",
       "      <td>NaN</td>\n",
       "      <td>NaN</td>\n",
       "      <td>NaN</td>\n",
       "      <td>NaN</td>\n",
       "    </tr>\n",
       "    <tr>\n",
       "      <th>7</th>\n",
       "      <td>NaN</td>\n",
       "      <td>NaN</td>\n",
       "      <td>NaN</td>\n",
       "      <td>NaN</td>\n",
       "      <td>or Contact us</td>\n",
       "      <td>NaN</td>\n",
       "      <td>NaN</td>\n",
       "      <td>NaN</td>\n",
       "      <td>NaN</td>\n",
       "      <td>NaN</td>\n",
       "    </tr>\n",
       "    <tr>\n",
       "      <th>8</th>\n",
       "      <td>NaN</td>\n",
       "      <td>NaN</td>\n",
       "      <td>NaN</td>\n",
       "      <td>NaN</td>\n",
       "      <td>NaN</td>\n",
       "      <td>NaN</td>\n",
       "      <td>NaN</td>\n",
       "      <td>NaN</td>\n",
       "      <td>NaN</td>\n",
       "      <td>NaN</td>\n",
       "    </tr>\n",
       "    <tr>\n",
       "      <th>9</th>\n",
       "      <td>NaN</td>\n",
       "      <td>NaN</td>\n",
       "      <td>NaN</td>\n",
       "      <td>NaN</td>\n",
       "      <td>NaN</td>\n",
       "      <td>NaN</td>\n",
       "      <td>NaN</td>\n",
       "      <td>NaN</td>\n",
       "      <td>NaN</td>\n",
       "      <td>NaN</td>\n",
       "    </tr>\n",
       "    <tr>\n",
       "      <th>10</th>\n",
       "      <td>NaN</td>\n",
       "      <td>NaN</td>\n",
       "      <td>NaN</td>\n",
       "      <td>NaN</td>\n",
       "      <td>NaN</td>\n",
       "      <td>NaN</td>\n",
       "      <td>NaN</td>\n",
       "      <td>NaN</td>\n",
       "      <td>NaN</td>\n",
       "      <td>NaN</td>\n",
       "    </tr>\n",
       "    <tr>\n",
       "      <th>11</th>\n",
       "      <td>NaN</td>\n",
       "      <td>NaN</td>\n",
       "      <td>NaN</td>\n",
       "      <td>NaN</td>\n",
       "      <td>LUSID accepts datetimes in any recognised Exce...</td>\n",
       "      <td>NaN</td>\n",
       "      <td>NaN</td>\n",
       "      <td>LUSID also accepts UTC, UTS offsets and cutlabels</td>\n",
       "      <td>NaN</td>\n",
       "      <td>NaN</td>\n",
       "    </tr>\n",
       "    <tr>\n",
       "      <th>12</th>\n",
       "      <td>NaN</td>\n",
       "      <td>NaN</td>\n",
       "      <td>NaN</td>\n",
       "      <td>NaN</td>\n",
       "      <td>NaN</td>\n",
       "      <td>NaN</td>\n",
       "      <td>NaN</td>\n",
       "      <td>NaN</td>\n",
       "      <td>NaN</td>\n",
       "      <td>NaN</td>\n",
       "    </tr>\n",
       "    <tr>\n",
       "      <th>13</th>\n",
       "      <td>NaN</td>\n",
       "      <td>NaN</td>\n",
       "      <td>NaN</td>\n",
       "      <td>NaN</td>\n",
       "      <td>Excel formats to show datetime</td>\n",
       "      <td>NaN</td>\n",
       "      <td>NaN</td>\n",
       "      <td>Additional formats</td>\n",
       "      <td>NaN</td>\n",
       "      <td>NaN</td>\n",
       "    </tr>\n",
       "    <tr>\n",
       "      <th>14</th>\n",
       "      <td>NaN</td>\n",
       "      <td>NaN</td>\n",
       "      <td>NaN</td>\n",
       "      <td>NaN</td>\n",
       "      <td>NaN</td>\n",
       "      <td>NaN</td>\n",
       "      <td>NaN</td>\n",
       "      <td>NaN</td>\n",
       "      <td>NaN</td>\n",
       "      <td>NaN</td>\n",
       "    </tr>\n",
       "    <tr>\n",
       "      <th>15</th>\n",
       "      <td>NaN</td>\n",
       "      <td>NaN</td>\n",
       "      <td>NaN</td>\n",
       "      <td>NaN</td>\n",
       "      <td>Enter the date to convert</td>\n",
       "      <td>2019-04-10 00:00:00</td>\n",
       "      <td>NaN</td>\n",
       "      <td>Standard UTC timestamp:</td>\n",
       "      <td>\"YYYY-MM-DDTHH:MM:SS.00Z\"</td>\n",
       "      <td>Where Z indicates Zulu time (UTC+0), and is eq...</td>\n",
       "    </tr>\n",
       "    <tr>\n",
       "      <th>16</th>\n",
       "      <td>NaN</td>\n",
       "      <td>NaN</td>\n",
       "      <td>NaN</td>\n",
       "      <td>NaN</td>\n",
       "      <td>NaN</td>\n",
       "      <td>NaN</td>\n",
       "      <td>NaN</td>\n",
       "      <td>NaN</td>\n",
       "      <td>NaN</td>\n",
       "      <td>NaN</td>\n",
       "    </tr>\n",
       "    <tr>\n",
       "      <th>17</th>\n",
       "      <td>NaN</td>\n",
       "      <td>NaN</td>\n",
       "      <td>NaN</td>\n",
       "      <td>NaN</td>\n",
       "      <td>This date has no time component</td>\n",
       "      <td>2019-04-10 00:00:00</td>\n",
       "      <td>NaN</td>\n",
       "      <td>Convert date into a string</td>\n",
       "      <td>2019-04-10T 13:30:45.55Z</td>\n",
       "      <td>NaN</td>\n",
       "    </tr>\n",
       "    <tr>\n",
       "      <th>18</th>\n",
       "      <td>NaN</td>\n",
       "      <td>NaN</td>\n",
       "      <td>NaN</td>\n",
       "      <td>NaN</td>\n",
       "      <td>NaN</td>\n",
       "      <td>NaN</td>\n",
       "      <td>NaN</td>\n",
       "      <td>NaN</td>\n",
       "      <td>NaN</td>\n",
       "      <td>NaN</td>\n",
       "    </tr>\n",
       "    <tr>\n",
       "      <th>19</th>\n",
       "      <td>NaN</td>\n",
       "      <td>NaN</td>\n",
       "      <td>NaN</td>\n",
       "      <td>NaN</td>\n",
       "      <td>Specify time component</td>\n",
       "      <td>13:30:45.550000</td>\n",
       "      <td>NaN</td>\n",
       "      <td>UTC offset (not recognised as an excel date)</td>\n",
       "      <td>2019-04-10T13:30:45+04:00</td>\n",
       "      <td>NaN</td>\n",
       "    </tr>\n",
       "    <tr>\n",
       "      <th>20</th>\n",
       "      <td>NaN</td>\n",
       "      <td>NaN</td>\n",
       "      <td>NaN</td>\n",
       "      <td>NaN</td>\n",
       "      <td>NaN</td>\n",
       "      <td>NaN</td>\n",
       "      <td>NaN</td>\n",
       "      <td>NaN</td>\n",
       "      <td>NaN</td>\n",
       "      <td>NaN</td>\n",
       "    </tr>\n",
       "    <tr>\n",
       "      <th>21</th>\n",
       "      <td>NaN</td>\n",
       "      <td>NaN</td>\n",
       "      <td>NaN</td>\n",
       "      <td>NaN</td>\n",
       "      <td>Add to your date and display the complete date...</td>\n",
       "      <td>2019-04-10 13:30:45.550000</td>\n",
       "      <td>NaN</td>\n",
       "      <td>Cutlabel</td>\n",
       "      <td>2019-04-10NSingaporeClose</td>\n",
       "      <td>NaN</td>\n",
       "    </tr>\n",
       "    <tr>\n",
       "      <th>22</th>\n",
       "      <td>NaN</td>\n",
       "      <td>NaN</td>\n",
       "      <td>NaN</td>\n",
       "      <td>NaN</td>\n",
       "      <td>NaN</td>\n",
       "      <td>NaN</td>\n",
       "      <td>NaN</td>\n",
       "      <td>NaN</td>\n",
       "      <td>NaN</td>\n",
       "      <td>NaN</td>\n",
       "    </tr>\n",
       "    <tr>\n",
       "      <th>23</th>\n",
       "      <td>NaN</td>\n",
       "      <td>NaN</td>\n",
       "      <td>NaN</td>\n",
       "      <td>NaN</td>\n",
       "      <td>Although the date can still appears without time</td>\n",
       "      <td>2019-04-10 13:30:45.550000</td>\n",
       "      <td>NaN</td>\n",
       "      <td>NaN</td>\n",
       "      <td>NaN</td>\n",
       "      <td>NaN</td>\n",
       "    </tr>\n",
       "    <tr>\n",
       "      <th>24</th>\n",
       "      <td>NaN</td>\n",
       "      <td>NaN</td>\n",
       "      <td>NaN</td>\n",
       "      <td>NaN</td>\n",
       "      <td>NaN</td>\n",
       "      <td>NaN</td>\n",
       "      <td>NaN</td>\n",
       "      <td>NaN</td>\n",
       "      <td>NaN</td>\n",
       "      <td>NaN</td>\n",
       "    </tr>\n",
       "    <tr>\n",
       "      <th>25</th>\n",
       "      <td>NaN</td>\n",
       "      <td>NaN</td>\n",
       "      <td>NaN</td>\n",
       "      <td>NaN</td>\n",
       "      <td>Add an hour to your datetime</td>\n",
       "      <td>2019-04-10 14:30:45.550000</td>\n",
       "      <td>NaN</td>\n",
       "      <td>NaN</td>\n",
       "      <td>NaN</td>\n",
       "      <td>NaN</td>\n",
       "    </tr>\n",
       "    <tr>\n",
       "      <th>26</th>\n",
       "      <td>NaN</td>\n",
       "      <td>NaN</td>\n",
       "      <td>NaN</td>\n",
       "      <td>NaN</td>\n",
       "      <td>NaN</td>\n",
       "      <td>NaN</td>\n",
       "      <td>NaN</td>\n",
       "      <td>NaN</td>\n",
       "      <td>NaN</td>\n",
       "      <td>NaN</td>\n",
       "    </tr>\n",
       "    <tr>\n",
       "      <th>27</th>\n",
       "      <td>NaN</td>\n",
       "      <td>NaN</td>\n",
       "      <td>NaN</td>\n",
       "      <td>NaN</td>\n",
       "      <td>Subtract a minute from your datetime</td>\n",
       "      <td>2019-04-10 14:29:45.550000</td>\n",
       "      <td>NaN</td>\n",
       "      <td>NaN</td>\n",
       "      <td>NaN</td>\n",
       "      <td>NaN</td>\n",
       "    </tr>\n",
       "  </tbody>\n",
       "</table>\n",
       "</div>"
      ],
      "text/plain": [
       "    Unnamed: 0  Unnamed: 1  Unnamed: 2  \\\n",
       "0          NaN         NaN         NaN   \n",
       "1          NaN         NaN         NaN   \n",
       "2          NaN         NaN         NaN   \n",
       "3          NaN         NaN         NaN   \n",
       "4          NaN         NaN         NaN   \n",
       "5          NaN         NaN         NaN   \n",
       "6          NaN         NaN         NaN   \n",
       "7          NaN         NaN         NaN   \n",
       "8          NaN         NaN         NaN   \n",
       "9          NaN         NaN         NaN   \n",
       "10         NaN         NaN         NaN   \n",
       "11         NaN         NaN         NaN   \n",
       "12         NaN         NaN         NaN   \n",
       "13         NaN         NaN         NaN   \n",
       "14         NaN         NaN         NaN   \n",
       "15         NaN         NaN         NaN   \n",
       "16         NaN         NaN         NaN   \n",
       "17         NaN         NaN         NaN   \n",
       "18         NaN         NaN         NaN   \n",
       "19         NaN         NaN         NaN   \n",
       "20         NaN         NaN         NaN   \n",
       "21         NaN         NaN         NaN   \n",
       "22         NaN         NaN         NaN   \n",
       "23         NaN         NaN         NaN   \n",
       "24         NaN         NaN         NaN   \n",
       "25         NaN         NaN         NaN   \n",
       "26         NaN         NaN         NaN   \n",
       "27         NaN         NaN         NaN   \n",
       "\n",
       "                                           Unnamed: 3  \\\n",
       "0                                                 NaN   \n",
       "1                                  Datetimes in LUSID   \n",
       "2                                                 NaN   \n",
       "3    This sheet allows you to format datetimes for...   \n",
       "4         If you have any questions please visit our:   \n",
       "5                                                 NaN   \n",
       "6                                                 NaN   \n",
       "7                                                 NaN   \n",
       "8                                                 NaN   \n",
       "9                                                 NaN   \n",
       "10                                                NaN   \n",
       "11                                                NaN   \n",
       "12                                                NaN   \n",
       "13                                                NaN   \n",
       "14                                                NaN   \n",
       "15                                                NaN   \n",
       "16                                                NaN   \n",
       "17                                                NaN   \n",
       "18                                                NaN   \n",
       "19                                                NaN   \n",
       "20                                                NaN   \n",
       "21                                                NaN   \n",
       "22                                                NaN   \n",
       "23                                                NaN   \n",
       "24                                                NaN   \n",
       "25                                                NaN   \n",
       "26                                                NaN   \n",
       "27                                                NaN   \n",
       "\n",
       "                                           Unnamed: 4  \\\n",
       "0                                                 NaN   \n",
       "1                                                 NaN   \n",
       "2                                                 NaN   \n",
       "3                                                 NaN   \n",
       "4                                                 NaN   \n",
       "5                           Getting Started tutorials   \n",
       "6                             Knowledge Base articles   \n",
       "7                                       or Contact us   \n",
       "8                                                 NaN   \n",
       "9                                                 NaN   \n",
       "10                                                NaN   \n",
       "11  LUSID accepts datetimes in any recognised Exce...   \n",
       "12                                                NaN   \n",
       "13                     Excel formats to show datetime   \n",
       "14                                                NaN   \n",
       "15                          Enter the date to convert   \n",
       "16                                                NaN   \n",
       "17                    This date has no time component   \n",
       "18                                                NaN   \n",
       "19                             Specify time component   \n",
       "20                                                NaN   \n",
       "21  Add to your date and display the complete date...   \n",
       "22                                                NaN   \n",
       "23   Although the date can still appears without time   \n",
       "24                                                NaN   \n",
       "25                       Add an hour to your datetime   \n",
       "26                                                NaN   \n",
       "27               Subtract a minute from your datetime   \n",
       "\n",
       "                    Unnamed: 5  Unnamed: 6  \\\n",
       "0                          NaN         NaN   \n",
       "1                          NaN         NaN   \n",
       "2                          NaN         NaN   \n",
       "3                          NaN         NaN   \n",
       "4                          NaN         NaN   \n",
       "5                          NaN         NaN   \n",
       "6                          NaN         NaN   \n",
       "7                          NaN         NaN   \n",
       "8                          NaN         NaN   \n",
       "9                          NaN         NaN   \n",
       "10                         NaN         NaN   \n",
       "11                         NaN         NaN   \n",
       "12                         NaN         NaN   \n",
       "13                         NaN         NaN   \n",
       "14                         NaN         NaN   \n",
       "15         2019-04-10 00:00:00         NaN   \n",
       "16                         NaN         NaN   \n",
       "17         2019-04-10 00:00:00         NaN   \n",
       "18                         NaN         NaN   \n",
       "19             13:30:45.550000         NaN   \n",
       "20                         NaN         NaN   \n",
       "21  2019-04-10 13:30:45.550000         NaN   \n",
       "22                         NaN         NaN   \n",
       "23  2019-04-10 13:30:45.550000         NaN   \n",
       "24                         NaN         NaN   \n",
       "25  2019-04-10 14:30:45.550000         NaN   \n",
       "26                         NaN         NaN   \n",
       "27  2019-04-10 14:29:45.550000         NaN   \n",
       "\n",
       "                                           Unnamed: 7  \\\n",
       "0                                                 NaN   \n",
       "1                                                 NaN   \n",
       "2                                                 NaN   \n",
       "3                                                 NaN   \n",
       "4                                                 NaN   \n",
       "5                                                 NaN   \n",
       "6                                                 NaN   \n",
       "7                                                 NaN   \n",
       "8                                                 NaN   \n",
       "9                                                 NaN   \n",
       "10                                                NaN   \n",
       "11  LUSID also accepts UTC, UTS offsets and cutlabels   \n",
       "12                                                NaN   \n",
       "13                                 Additional formats   \n",
       "14                                                NaN   \n",
       "15                            Standard UTC timestamp:   \n",
       "16                                                NaN   \n",
       "17                         Convert date into a string   \n",
       "18                                                NaN   \n",
       "19       UTC offset (not recognised as an excel date)   \n",
       "20                                                NaN   \n",
       "21                                           Cutlabel   \n",
       "22                                                NaN   \n",
       "23                                                NaN   \n",
       "24                                                NaN   \n",
       "25                                                NaN   \n",
       "26                                                NaN   \n",
       "27                                                NaN   \n",
       "\n",
       "                   Unnamed: 8  \\\n",
       "0                         NaN   \n",
       "1                         NaN   \n",
       "2                         NaN   \n",
       "3                         NaN   \n",
       "4                         NaN   \n",
       "5                         NaN   \n",
       "6                         NaN   \n",
       "7                         NaN   \n",
       "8                         NaN   \n",
       "9                         NaN   \n",
       "10                        NaN   \n",
       "11                        NaN   \n",
       "12                        NaN   \n",
       "13                        NaN   \n",
       "14                        NaN   \n",
       "15  \"YYYY-MM-DDTHH:MM:SS.00Z\"   \n",
       "16                        NaN   \n",
       "17   2019-04-10T 13:30:45.55Z   \n",
       "18                        NaN   \n",
       "19  2019-04-10T13:30:45+04:00   \n",
       "20                        NaN   \n",
       "21  2019-04-10NSingaporeClose   \n",
       "22                        NaN   \n",
       "23                        NaN   \n",
       "24                        NaN   \n",
       "25                        NaN   \n",
       "26                        NaN   \n",
       "27                        NaN   \n",
       "\n",
       "                                           Unnamed: 9  \n",
       "0                                                 NaN  \n",
       "1                                                 NaN  \n",
       "2                                                 NaN  \n",
       "3                                                 NaN  \n",
       "4                                                 NaN  \n",
       "5                                                 NaN  \n",
       "6                                                 NaN  \n",
       "7                                                 NaN  \n",
       "8                                                 NaN  \n",
       "9                                                 NaN  \n",
       "10                                                NaN  \n",
       "11                                                NaN  \n",
       "12                                                NaN  \n",
       "13                                                NaN  \n",
       "14                                                NaN  \n",
       "15  Where Z indicates Zulu time (UTC+0), and is eq...  \n",
       "16                                                NaN  \n",
       "17                                                NaN  \n",
       "18                                                NaN  \n",
       "19                                                NaN  \n",
       "20                                                NaN  \n",
       "21                                                NaN  \n",
       "22                                                NaN  \n",
       "23                                                NaN  \n",
       "24                                                NaN  \n",
       "25                                                NaN  \n",
       "26                                                NaN  \n",
       "27                                                NaN  "
      ]
     },
     "execution_count": 5,
     "metadata": {},
     "output_type": "execute_result"
    }
   ],
   "source": [
    "df"
   ]
  },
  {
   "cell_type": "markdown",
   "id": "f284d9e5-4120-41b6-a8d3-a1957752d204",
   "metadata": {},
   "source": [
    "<span style=color:green>Q7. You have a Pandas DataFrame df that contains a column named 'Email' that contains email\n",
    "addresses in the format 'username@domain.com'. Write a Python function that creates a new column\n",
    "'Username' in df that contains only the username part of each email address.\n",
    "\n",
    "\n",
    "<span style=color:green>The username is the part of the email address that appears before the '@' symbol. For example, if the\n",
    "email address is 'john.doe@example.com', the 'Username' column should contain 'john.doe'. Your\n",
    "function should extract the username from each email address and store it in the new 'Username'\n",
    "column.</span>"
   ]
  },
  {
   "cell_type": "markdown",
   "id": "b1bd4ee8-c2b3-4a9f-82a1-1453ad105d7a",
   "metadata": {},
   "source": [
    "Ans-"
   ]
  },
  {
   "cell_type": "code",
   "execution_count": null,
   "id": "2801976f-696b-409c-99eb-9dd9fd636078",
   "metadata": {},
   "outputs": [],
   "source": [
    "import pandas as pd\n",
    "\n",
    "# datafrane\n",
    "data={\"Email\":[\"useruser@gmail.com\",\"lol@domain.com\",\"oss@domain.com\"]}\n",
    "df=pd.DataFrame(data)\n",
    "\n",
    "# split username function\n",
    "def split_username(email):\n",
    "    return email.split('@')[0]\n",
    "# creating username column\n",
    "\n",
    "df[\"Username\"]=df[\"Email\"].apply(split_username)\n",
    "\n",
    "print(df)"
   ]
  },
  {
   "cell_type": "markdown",
   "id": "ac25700d-e61b-46da-b5ff-d1fb7e647e56",
   "metadata": {},
   "source": [
    "<span style=color:green>Q8. You have a Pandas DataFrame df with columns 'A', 'B', and 'C'. Write a Python function that selects\n",
    "all rows where the value in column 'A' is greater than 5 and the value in column 'B' is less than 10. The\n",
    "function should return a new DataFrame that contains only the selected rows.</span>"
   ]
  },
  {
   "cell_type": "markdown",
   "id": "4df41fe3-d627-4bd4-b125-e6b87c72922a",
   "metadata": {},
   "source": [
    "Ans-"
   ]
  },
  {
   "cell_type": "code",
   "execution_count": 13,
   "id": "96590ed4-c154-402a-b5c8-8a4013d23248",
   "metadata": {},
   "outputs": [
    {
     "name": "stdout",
     "output_type": "stream",
     "text": [
      "   A  B  C\n",
      "1  8  2  7\n",
      "2  6  9  4\n",
      "4  9  1  2\n"
     ]
    }
   ],
   "source": [
    "import pandas as pd\n",
    "\n",
    "data={\"A\":[3,8,6,2,9],\n",
    "      \"B\":[5,2,9,3,1],\n",
    "      \"C\":[1,7,4,5,2]}\n",
    "df=pd.DataFrame(data)\n",
    "\n",
    "# create function\n",
    "\n",
    "def select_my_raw(df):\n",
    "    select_my_raw=df[(df[\"A\"] > 5) & (df[\"B\"] < 10)]\n",
    "    return select_my_raw\n",
    "here_result=select_my_raw(df)\n",
    "\n",
    "print(here_result)"
   ]
  },
  {
   "cell_type": "markdown",
   "id": "6385f2e8-2c94-4308-b355-3006951e9fe7",
   "metadata": {},
   "source": [
    "<span style=color:green>Q9. Given a Pandas DataFrame df with a column 'Values', write a Python function to calculate the mean,\n",
    "median, and standard deviation of the values in the 'Values' column.</span>"
   ]
  },
  {
   "cell_type": "markdown",
   "id": "66fd49f0-4674-476f-ab0b-faa9a9528471",
   "metadata": {},
   "source": [
    "Ans-"
   ]
  },
  {
   "cell_type": "code",
   "execution_count": 1,
   "id": "3d9e5d17-b3f1-4999-8908-e3108273f8f9",
   "metadata": {
    "tags": []
   },
   "outputs": [],
   "source": []
  },
  {
   "cell_type": "code",
   "execution_count": 13,
   "id": "27c7afe9-2b32-4d7d-8817-03122b606834",
   "metadata": {},
   "outputs": [
    {
     "name": "stdout",
     "output_type": "stream",
     "text": [
      "Mean: 20.0, Median: 20.0, Standard Deviation: 7.905694150420948\n"
     ]
    }
   ],
   "source": [
    "import pandas as pd\n",
    "data = {'Values': [10, 15, 20, 25, 30]}\n",
    "df = pd.DataFrame(data)\n",
    "def calculate (df):\n",
    "    if 'Values' in df.columns:\n",
    "        mean=df['Values'].mean()\n",
    "        median=df['Values'].median()\n",
    "        standard_deviation=df['Values'].std()\n",
    "        return mean,median,standard_deviation\n",
    "    else:\n",
    "        raise ValueError('Value column not availabe')\n",
    "        \n",
    "result_mean, result_median, result_std_dev = calculate(df)\n",
    "print(f\"Mean: {result_mean}, Median: {result_median}, Standard Deviation: {result_std_dev}\")\n",
    "    "
   ]
  },
  {
   "cell_type": "markdown",
   "id": "8624fd3b-bfe8-492c-bdbb-e4e3435f5f89",
   "metadata": {},
   "source": [
    "<span style=color:green>Q10. Given a Pandas DataFrame df with a column 'Sales' and a column 'Date', write a Python function to\n",
    "create a new column 'MovingAverage' that contains the moving average of the sales for the past 7 days\n",
    "for each row in the DataFrame. The moving average should be calculated using a window of size 7 and\n",
    "should include the current day.</span>"
   ]
  },
  {
   "cell_type": "markdown",
   "id": "bba78c56-6643-4ea4-9618-35799d9c49fa",
   "metadata": {},
   "source": [
    "Ans-"
   ]
  },
  {
   "cell_type": "code",
   "execution_count": 18,
   "id": "f2a70c54-5115-4268-84de-bcd73050f9c1",
   "metadata": {},
   "outputs": [],
   "source": [
    "import pandas as pd\n",
    "\n",
    "# Sample DataFrame with 'Sales' and 'Date' columns\n",
    "data = {'Date': ['2023-11-04', '2023-11-05', '2023-11-06', '2023-11-07', '2023-11-08', '2023-11-09', '2023-11-10'],\n",
    "        'Sales': [100, 120, 130, 110, 150, 140, 160]}\n",
    "df = pd.DataFrame(data)"
   ]
  },
  {
   "cell_type": "code",
   "execution_count": 30,
   "id": "8a88a59b-6a45-43f4-a531-8ac761c759fb",
   "metadata": {},
   "outputs": [
    {
     "name": "stdout",
     "output_type": "stream",
     "text": [
      "         Date  Sales\n",
      "0  2023-11-04    100\n",
      "1  2023-11-05    120\n",
      "2  2023-11-06    130\n",
      "3  2023-11-07    110\n",
      "4  2023-11-08    150\n",
      "5  2023-11-09    140\n",
      "6  2023-11-10    160\n"
     ]
    }
   ],
   "source": [
    "def moving_average(df):\n",
    "    if 'Sales' in df.columns and 'Date' in df.columns:\n",
    "        df['Date']=pd.to_datetime(df['Date'])\n",
    "        df=df.sort_values(by='Date')\n",
    "# calculate the rolling 7 days\n",
    "        df['Movingaverage']=df['Sales'].rolling(window=7, min_periods=1).mean()\n",
    "        return df\n",
    "    else:\n",
    "        raise  ValueError('sorry')\n",
    "    df=moving_average(df)\n",
    "print(df)\n",
    "                                      \n",
    "            "
   ]
  },
  {
   "cell_type": "markdown",
   "id": "6e8567f3-f931-4ab4-81d2-679c15d025a8",
   "metadata": {},
   "source": [
    "<span style=color:green>Q11. You have a Pandas DataFrame df with a column 'Date'. Write a Python function that creates a new\n",
    "column 'Weekday' in the DataFrame. The 'Weekday' column should contain the weekday name (e.g.\n",
    "Monday, Tuesday) corresponding to each date in the 'Date' column.\n",
    "For example, if df contains the following values:\n",
    "Date\n",
    "0 2023-01-01\n",
    "1 2023-01-02\n",
    "2 2023-01-03\n",
    "3 2023-01-04\n",
    "4 2023-01-05\n",
    "Your function should create the following DataFrame:\n",
    "Date Weekday\n",
    "0 2023-01-01 Sunday\n",
    "1 2023-01-02 Monday\n",
    "2 2023-01-03 Tuesday\n",
    "3 2023-01-04 Wednesday\n",
    "4 2023-01-05 Thursday\n",
    "The function should return the modified DataFrame.</span>"
   ]
  },
  {
   "cell_type": "markdown",
   "id": "4683bd88-87d2-4e0d-9078-4bac3061dafe",
   "metadata": {},
   "source": [
    "Ans-"
   ]
  },
  {
   "cell_type": "code",
   "execution_count": 35,
   "id": "16ec9fc7-9a25-46a3-b88b-04e75ed720f4",
   "metadata": {},
   "outputs": [
    {
     "name": "stdout",
     "output_type": "stream",
     "text": [
      "        Date   Weekday\n",
      "0 2023-07-01  Saturday\n",
      "1 2023-07-02    Sunday\n",
      "2 2023-07-03    Monday\n",
      "3 2023-07-04   Tuesday\n"
     ]
    }
   ],
   "source": [
    "import pandas as pd\n",
    "data1={'Date':['2023-07-01','2023-07-02','2023-07-03','2023-07-04']}\n",
    "df=pd.DataFrame(data1)\n",
    "def creates_nw_columns(df):\n",
    "    if 'Date' in df.columns:\n",
    "        df['Date']=pd.to_datetime(df['Date'])\n",
    "        df['Weekday'] = df['Date'].dt.strftime('%A') \n",
    "        return df\n",
    "    else:\n",
    "        raise ValueError('sorry')\n",
    "creates_nw_columns(df)\n",
    "print(df)"
   ]
  },
  {
   "cell_type": "markdown",
   "id": "530753eb-8fc2-4d2d-ab14-f29d608f4f0a",
   "metadata": {},
   "source": [
    "<span style=color:green>Q12. Given a Pandas DataFrame df with a column 'Date' that contains timestamps, write a Python\n",
    "function to select all rows where the date is between '2023-01-01' and '2023-01-31'.</span>"
   ]
  },
  {
   "cell_type": "markdown",
   "id": "ac4f87bb-32e6-4368-b329-fc88037c5b2f",
   "metadata": {},
   "source": [
    "Ans-"
   ]
  },
  {
   "cell_type": "code",
   "execution_count": 1,
   "id": "d7181e0f-18f4-4e4c-9785-fad023192a6a",
   "metadata": {},
   "outputs": [
    {
     "name": "stdout",
     "output_type": "stream",
     "text": [
      "        Date\n",
      "0 2023-01-01\n",
      "1 2023-01-15\n",
      "2 2023-01-20\n"
     ]
    }
   ],
   "source": [
    "import pandas as pd\n",
    "\n",
    "\n",
    "data = {'Date': ['2023-01-01', '2023-01-15', '2023-01-20', '2023-02-05']}\n",
    "df = pd.DataFrame(data)\n",
    "\n",
    "def select_rows_between_dates(df):\n",
    "    if 'Date' in df.columns:\n",
    "        df['Date'] = pd.to_datetime(df['Date'])  \n",
    "        \n",
    "        \n",
    "        start_date = pd.to_datetime('2023-01-01')\n",
    "        end_date = pd.to_datetime('2023-01-31')\n",
    "        \n",
    "       \n",
    "        selected_rows = df[(df['Date'] >= start_date) & (df['Date'] <= end_date)]\n",
    "        \n",
    "        return selected_rows\n",
    "    else:\n",
    "        raise ValueError(\"DataFrame must have a 'Date' column\")\n",
    "\n",
    "\n",
    "selected_rows = select_rows_between_dates(df)\n",
    "print(selected_rows)\n"
   ]
  },
  {
   "cell_type": "markdown",
   "id": "7b032c33-767c-40a5-97c3-943b83a77f31",
   "metadata": {},
   "source": [
    "<span style=color:green>Q13. To use the basic functions of pandas, what is the first and foremost necessary library that needs to\n",
    "be imported?</span>"
   ]
  },
  {
   "cell_type": "markdown",
   "id": "bfda5ea1-b451-4705-80c6-535efe6305b6",
   "metadata": {},
   "source": [
    "Ans-"
   ]
  },
  {
   "cell_type": "markdown",
   "id": "76275600-b97e-42e0-98ea-a9e3449be3f2",
   "metadata": {},
   "source": [
    "To use the basic functions of Pandas, you need to import the Pandas library itself. You can do this by using the import statement in Python. Here's how you typically import Pandas:"
   ]
  },
  {
   "cell_type": "code",
   "execution_count": 1,
   "id": "f0b5ea48-baa7-48a5-9778-ed063c163fd6",
   "metadata": {},
   "outputs": [],
   "source": [
    "import pandas as pd"
   ]
  },
  {
   "cell_type": "code",
   "execution_count": null,
   "id": "b426f7ab-0dc4-4900-a86b-0aed31cc5787",
   "metadata": {},
   "outputs": [],
   "source": []
  }
 ],
 "metadata": {
  "kernelspec": {
   "display_name": "Python 3 (ipykernel)",
   "language": "python",
   "name": "python3"
  },
  "language_info": {
   "codemirror_mode": {
    "name": "ipython",
    "version": 3
   },
   "file_extension": ".py",
   "mimetype": "text/x-python",
   "name": "python",
   "nbconvert_exporter": "python",
   "pygments_lexer": "ipython3",
   "version": "3.10.8"
  }
 },
 "nbformat": 4,
 "nbformat_minor": 5
}
